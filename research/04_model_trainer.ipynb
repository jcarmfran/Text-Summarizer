{
 "cells": [
  {
   "cell_type": "code",
   "execution_count": 1,
   "metadata": {},
   "outputs": [],
   "source": [
    "import os"
   ]
  },
  {
   "cell_type": "code",
   "execution_count": 2,
   "metadata": {},
   "outputs": [
    {
     "data": {
      "text/plain": [
       "'c:\\\\Users\\\\cisco\\\\Python_Projects\\\\ML+AI\\\\Text-Summarizer\\\\research'"
      ]
     },
     "execution_count": 2,
     "metadata": {},
     "output_type": "execute_result"
    }
   ],
   "source": [
    "%pwd"
   ]
  },
  {
   "cell_type": "code",
   "execution_count": 3,
   "metadata": {},
   "outputs": [],
   "source": [
    "os.chdir(\"../\")"
   ]
  },
  {
   "cell_type": "code",
   "execution_count": 4,
   "metadata": {},
   "outputs": [
    {
     "data": {
      "text/plain": [
       "'c:\\\\Users\\\\cisco\\\\Python_Projects\\\\ML+AI\\\\Text-Summarizer'"
      ]
     },
     "execution_count": 4,
     "metadata": {},
     "output_type": "execute_result"
    }
   ],
   "source": [
    "%pwd"
   ]
  },
  {
   "cell_type": "markdown",
   "metadata": {},
   "source": [
    "## Defining Entity"
   ]
  },
  {
   "cell_type": "code",
   "execution_count": 5,
   "metadata": {},
   "outputs": [],
   "source": [
    "from dataclasses import dataclass\n",
    "from pathlib import Path\n",
    "\n",
    "\n",
    "@dataclass(frozen=True)\n",
    "class ModelTrainerConfig:\n",
    "    root_dir: Path\n",
    "    data_path: Path\n",
    "    model_ckpt: Path\n",
    "    num_train_epochs: int\n",
    "    warmup_steps: int\n",
    "    per_device_train_batch_size: int\n",
    "    weight_decay: float\n",
    "    logging_steps: int\n",
    "    evaluation_strategy: str\n",
    "    eval_steps: int\n",
    "    save_steps: float\n",
    "    gradient_accumulation_steps: int"
   ]
  },
  {
   "cell_type": "markdown",
   "metadata": {},
   "source": [
    "## Configuration Manager"
   ]
  },
  {
   "cell_type": "code",
   "execution_count": 6,
   "metadata": {},
   "outputs": [],
   "source": [
    "from textSummarizer.constants import *\n",
    "from textSummarizer.utils.common import read_yaml, create_directories"
   ]
  },
  {
   "cell_type": "code",
   "execution_count": 7,
   "metadata": {},
   "outputs": [],
   "source": [
    "class ConfigurationManager:\n",
    "    def __init__(\n",
    "        self,\n",
    "        config_filepath = CONFIG_FILE_PATH,\n",
    "        params_filepath = PARAMS_FILE_PATH):\n",
    "\n",
    "        self.config = read_yaml(config_filepath)\n",
    "        self.params = read_yaml(params_filepath)\n",
    "\n",
    "        create_directories([self.config.artifacts_root])\n",
    "\n",
    "\n",
    "    def get_model_trainer_config(self) -> ModelTrainerConfig:\n",
    "        config = self.config.model_trainer\n",
    "        params = self.params.TrainingArguments\n",
    "\n",
    "        create_directories([config.root_dir])\n",
    "\n",
    "        model_trainer_config = ModelTrainerConfig(\n",
    "            root_dir=config.root_dir,\n",
    "            data_path=config.data_path,\n",
    "            model_ckpt = config.model_ckpt,\n",
    "            num_train_epochs = params.num_train_epochs,\n",
    "            warmup_steps = params.warmup_steps,\n",
    "            per_device_train_batch_size = params.per_device_train_batch_size,\n",
    "            weight_decay = params.weight_decay,\n",
    "            logging_steps = params.logging_steps,\n",
    "            evaluation_strategy = params.evaluation_strategy,\n",
    "            eval_steps = params.evaluation_strategy,\n",
    "            save_steps = params.save_steps,\n",
    "            gradient_accumulation_steps = params.gradient_accumulation_steps\n",
    "        )\n",
    "\n",
    "        return model_trainer_config"
   ]
  },
  {
   "cell_type": "markdown",
   "metadata": {},
   "source": [
    "## Model Training Component"
   ]
  },
  {
   "cell_type": "code",
   "execution_count": 8,
   "metadata": {},
   "outputs": [
    {
     "name": "stdout",
     "output_type": "stream",
     "text": [
      "[2024-03-27 18:12:56,261: INFO: utils: Note: NumExpr detected 16 cores but \"NUMEXPR_MAX_THREADS\" not set, so enforcing safe limit of 8.]\n",
      "[2024-03-27 18:12:56,262: INFO: utils: NumExpr defaulting to 8 threads.]\n",
      "[2024-03-27 18:12:57,035: INFO: config: PyTorch version 2.2.0 available.]\n",
      "[2024-03-27 18:12:57,037: INFO: config: TensorFlow version 2.10.1 available.]\n"
     ]
    }
   ],
   "source": [
    "from transformers import TrainingArguments, Trainer\n",
    "from transformers import DataCollatorForSeq2Seq\n",
    "from transformers import AutoModelForSeq2SeqLM, AutoTokenizer\n",
    "from datasets import load_dataset, load_from_disk\n",
    "import torch"
   ]
  },
  {
   "cell_type": "code",
   "execution_count": 11,
   "metadata": {},
   "outputs": [],
   "source": [
    "class ModelTrainer:\n",
    "    def __init__(self, config: ModelTrainerConfig):\n",
    "        self.config = config\n",
    "\n",
    "\n",
    "    def train(self):\n",
    "        device = \"cuda\" if torch.cuda.is_available() else \"cpu\"\n",
    "        tokenizer = AutoTokenizer.from_pretrained(self.config.model_ckpt)\n",
    "        model_pegasus = AutoModelForSeq2SeqLM.from_pretrained(self.config.model_ckpt).to(device)\n",
    "        seq2seq_data_collator = DataCollatorForSeq2Seq(tokenizer, model=model_pegasus)\n",
    "        \n",
    "        # loading data \n",
    "        dataset_samsum_pt = load_from_disk(self.config.data_path)\n",
    "\n",
    "        # ## local file variables\n",
    "        # trainer_args = TrainingArguments(\n",
    "        #                                  output_dir=self.config.root_dir, \n",
    "        #                                  num_train_epochs=self.config.num_train_epochs, \n",
    "        #                                  warmup_steps=self.config.warmup_steps,\n",
    "        #                                  per_device_train_batch_size=self.config.per_device_train_batch_size,\n",
    "        #                                  per_device_eval_batch_size=self.config.per_device_train_batch_size,\n",
    "        #                                  weight_decay=self.config.weight_decay,\n",
    "        #                                  logging_steps=self.config.logging_steps,\n",
    "        #                                  evaluation_strategy=self.config.evaluation_strategy,\n",
    "        #                                  eval_steps=self.config.eval_steps,\n",
    "        #                                  save_steps=1e6,\n",
    "        #                                  gradient_accumulation_steps=self.config.gradient_accumulation_steps\n",
    "        # ) \n",
    "\n",
    "        ## hard coded parameters\n",
    "        trainer_args = TrainingArguments(\n",
    "                                         output_dir=self.config.root_dir,\n",
    "                                         num_train_epochs=1,\n",
    "                                         warmup_steps=500,\n",
    "                                         per_device_train_batch_size=1,\n",
    "                                         per_device_eval_batch_size=1,\n",
    "                                         weight_decay=0.01,\n",
    "                                         logging_steps=10,\n",
    "                                         evaluation_strategy='steps',\n",
    "                                         eval_steps=500,\n",
    "                                         save_steps=1e6,\n",
    "                                         gradient_accumulation_steps=16\n",
    "        ) \n",
    "\n",
    "        trainer = Trainer(model=model_pegasus, args=trainer_args,\n",
    "                          tokenizer=tokenizer, data_collator=seq2seq_data_collator,\n",
    "                          train_dataset=dataset_samsum_pt[\"train\"],\n",
    "                          eval_dataset=dataset_samsum_pt[\"validation\"])\n",
    "        \n",
    "        ## Train model\n",
    "        trainer.train()\n",
    "\n",
    "        ## Save model\n",
    "        model_pegasus.save_pretrained(os.path.join(self.config.root_dir,\"pegasus-samsum-model\"))\n",
    "        \n",
    "        ## Save tokenizer\n",
    "        tokenizer.save_pretrained(os.path.join(self.config.root_dir,\"tokenizer\"))"
   ]
  },
  {
   "cell_type": "markdown",
   "metadata": {},
   "source": [
    "## Train Model"
   ]
  },
  {
   "cell_type": "code",
   "execution_count": 13,
   "metadata": {},
   "outputs": [
    {
     "name": "stdout",
     "output_type": "stream",
     "text": [
      "[2024-03-27 19:27:18,025: INFO: common: yaml file: config\\config.yaml loaded successfully]\n",
      "[2024-03-27 19:27:18,025: INFO: common: yaml file: params.yaml loaded successfully]\n",
      "[2024-03-27 19:27:18,025: INFO: common: created directory at: artifacts]\n",
      "[2024-03-27 19:27:18,038: INFO: common: created directory at: artifacts/model_trainer]\n"
     ]
    },
    {
     "name": "stderr",
     "output_type": "stream",
     "text": [
      "Some weights of PegasusForConditionalGeneration were not initialized from the model checkpoint at google/pegasus-cnn_dailymail and are newly initialized: ['model.decoder.embed_positions.weight', 'model.encoder.embed_positions.weight']\n",
      "You should probably TRAIN this model on a down-stream task to be able to use it for predictions and inference.\n"
     ]
    },
    {
     "data": {
      "application/vnd.jupyter.widget-view+json": {
       "model_id": "8a8f47d6a03a421aaad5b4844903f4d1",
       "version_major": 2,
       "version_minor": 0
      },
      "text/plain": [
       "  0%|          | 0/920 [00:00<?, ?it/s]"
      ]
     },
     "metadata": {},
     "output_type": "display_data"
    },
    {
     "name": "stdout",
     "output_type": "stream",
     "text": [
      "{'loss': 3.1382, 'learning_rate': 1.0000000000000002e-06, 'epoch': 0.01}\n",
      "{'loss': 3.0794, 'learning_rate': 2.0000000000000003e-06, 'epoch': 0.02}\n",
      "{'loss': 2.8823, 'learning_rate': 3e-06, 'epoch': 0.03}\n",
      "{'loss': 2.8973, 'learning_rate': 4.000000000000001e-06, 'epoch': 0.04}\n",
      "{'loss': 2.8282, 'learning_rate': 5e-06, 'epoch': 0.05}\n",
      "{'loss': 2.7795, 'learning_rate': 6e-06, 'epoch': 0.07}\n",
      "{'loss': 2.5171, 'learning_rate': 7.000000000000001e-06, 'epoch': 0.08}\n",
      "{'loss': 2.6769, 'learning_rate': 8.000000000000001e-06, 'epoch': 0.09}\n",
      "{'loss': 2.4091, 'learning_rate': 9e-06, 'epoch': 0.1}\n",
      "{'loss': 2.4684, 'learning_rate': 1e-05, 'epoch': 0.11}\n",
      "{'loss': 2.3081, 'learning_rate': 1.1000000000000001e-05, 'epoch': 0.12}\n",
      "{'loss': 2.1079, 'learning_rate': 1.2e-05, 'epoch': 0.13}\n",
      "{'loss': 2.2761, 'learning_rate': 1.3000000000000001e-05, 'epoch': 0.14}\n",
      "{'loss': 2.0842, 'learning_rate': 1.4000000000000001e-05, 'epoch': 0.15}\n",
      "{'loss': 1.9954, 'learning_rate': 1.5e-05, 'epoch': 0.16}\n",
      "{'loss': 2.0645, 'learning_rate': 1.6000000000000003e-05, 'epoch': 0.17}\n",
      "{'loss': 2.0789, 'learning_rate': 1.7000000000000003e-05, 'epoch': 0.18}\n",
      "{'loss': 2.0606, 'learning_rate': 1.8e-05, 'epoch': 0.2}\n",
      "{'loss': 1.9117, 'learning_rate': 1.9e-05, 'epoch': 0.21}\n",
      "{'loss': 1.9797, 'learning_rate': 2e-05, 'epoch': 0.22}\n",
      "{'loss': 1.8689, 'learning_rate': 2.1e-05, 'epoch': 0.23}\n",
      "{'loss': 1.8111, 'learning_rate': 2.2000000000000003e-05, 'epoch': 0.24}\n",
      "{'loss': 1.8806, 'learning_rate': 2.3000000000000003e-05, 'epoch': 0.25}\n",
      "{'loss': 1.8075, 'learning_rate': 2.4e-05, 'epoch': 0.26}\n",
      "{'loss': 1.8573, 'learning_rate': 2.5e-05, 'epoch': 0.27}\n",
      "{'loss': 1.8999, 'learning_rate': 2.6000000000000002e-05, 'epoch': 0.28}\n",
      "{'loss': 1.7639, 'learning_rate': 2.7000000000000002e-05, 'epoch': 0.29}\n",
      "{'loss': 1.7407, 'learning_rate': 2.8000000000000003e-05, 'epoch': 0.3}\n",
      "{'loss': 1.6826, 'learning_rate': 2.9e-05, 'epoch': 0.31}\n",
      "{'loss': 1.7362, 'learning_rate': 3e-05, 'epoch': 0.33}\n",
      "{'loss': 1.8121, 'learning_rate': 3.1e-05, 'epoch': 0.34}\n",
      "{'loss': 1.7912, 'learning_rate': 3.2000000000000005e-05, 'epoch': 0.35}\n",
      "{'loss': 1.7887, 'learning_rate': 3.3e-05, 'epoch': 0.36}\n",
      "{'loss': 1.7419, 'learning_rate': 3.4000000000000007e-05, 'epoch': 0.37}\n",
      "{'loss': 1.6958, 'learning_rate': 3.5e-05, 'epoch': 0.38}\n",
      "{'loss': 1.7002, 'learning_rate': 3.6e-05, 'epoch': 0.39}\n",
      "{'loss': 1.6713, 'learning_rate': 3.7e-05, 'epoch': 0.4}\n",
      "{'loss': 1.7184, 'learning_rate': 3.8e-05, 'epoch': 0.41}\n",
      "{'loss': 1.7898, 'learning_rate': 3.9000000000000006e-05, 'epoch': 0.42}\n",
      "{'loss': 1.6226, 'learning_rate': 4e-05, 'epoch': 0.43}\n",
      "{'loss': 1.5894, 'learning_rate': 4.1e-05, 'epoch': 0.45}\n",
      "{'loss': 1.694, 'learning_rate': 4.2e-05, 'epoch': 0.46}\n",
      "{'loss': 1.6594, 'learning_rate': 4.3e-05, 'epoch': 0.47}\n",
      "{'loss': 1.6845, 'learning_rate': 4.4000000000000006e-05, 'epoch': 0.48}\n",
      "{'loss': 1.6344, 'learning_rate': 4.5e-05, 'epoch': 0.49}\n",
      "{'loss': 1.6283, 'learning_rate': 4.600000000000001e-05, 'epoch': 0.5}\n",
      "{'loss': 1.6282, 'learning_rate': 4.7e-05, 'epoch': 0.51}\n",
      "{'loss': 1.6158, 'learning_rate': 4.8e-05, 'epoch': 0.52}\n",
      "{'loss': 1.6074, 'learning_rate': 4.9e-05, 'epoch': 0.53}\n",
      "{'loss': 1.6668, 'learning_rate': 5e-05, 'epoch': 0.54}\n"
     ]
    },
    {
     "data": {
      "application/vnd.jupyter.widget-view+json": {
       "model_id": "d29cd0a84620456bbc9a5aae161a52a3",
       "version_major": 2,
       "version_minor": 0
      },
      "text/plain": [
       "  0%|          | 0/818 [00:00<?, ?it/s]"
      ]
     },
     "metadata": {},
     "output_type": "display_data"
    },
    {
     "name": "stdout",
     "output_type": "stream",
     "text": [
      "{'eval_loss': 1.4856899976730347, 'eval_runtime': 400.7678, 'eval_samples_per_second': 2.041, 'eval_steps_per_second': 2.041, 'epoch': 0.54}\n",
      "{'loss': 1.6095, 'learning_rate': 4.880952380952381e-05, 'epoch': 0.55}\n",
      "{'loss': 1.7147, 'learning_rate': 4.761904761904762e-05, 'epoch': 0.56}\n",
      "{'loss': 1.6747, 'learning_rate': 4.642857142857143e-05, 'epoch': 0.58}\n",
      "{'loss': 1.6162, 'learning_rate': 4.523809523809524e-05, 'epoch': 0.59}\n",
      "{'loss': 1.6412, 'learning_rate': 4.404761904761905e-05, 'epoch': 0.6}\n",
      "{'loss': 1.6174, 'learning_rate': 4.2857142857142856e-05, 'epoch': 0.61}\n",
      "{'loss': 1.5808, 'learning_rate': 4.166666666666667e-05, 'epoch': 0.62}\n",
      "{'loss': 1.6962, 'learning_rate': 4.047619047619048e-05, 'epoch': 0.63}\n",
      "{'loss': 1.5827, 'learning_rate': 3.928571428571429e-05, 'epoch': 0.64}\n",
      "{'loss': 1.6763, 'learning_rate': 3.809523809523809e-05, 'epoch': 0.65}\n",
      "{'loss': 1.6249, 'learning_rate': 3.690476190476191e-05, 'epoch': 0.66}\n",
      "{'loss': 1.6228, 'learning_rate': 3.571428571428572e-05, 'epoch': 0.67}\n",
      "{'loss': 1.7057, 'learning_rate': 3.4523809523809526e-05, 'epoch': 0.68}\n",
      "{'loss': 1.5694, 'learning_rate': 3.3333333333333335e-05, 'epoch': 0.7}\n",
      "{'loss': 1.5316, 'learning_rate': 3.2142857142857144e-05, 'epoch': 0.71}\n",
      "{'loss': 1.6472, 'learning_rate': 3.095238095238095e-05, 'epoch': 0.72}\n",
      "{'loss': 1.6897, 'learning_rate': 2.9761904761904762e-05, 'epoch': 0.73}\n",
      "{'loss': 1.5353, 'learning_rate': 2.857142857142857e-05, 'epoch': 0.74}\n",
      "{'loss': 1.6192, 'learning_rate': 2.7380952380952383e-05, 'epoch': 0.75}\n",
      "{'loss': 1.6129, 'learning_rate': 2.6190476190476192e-05, 'epoch': 0.76}\n",
      "{'loss': 1.6464, 'learning_rate': 2.5e-05, 'epoch': 0.77}\n",
      "{'loss': 1.6163, 'learning_rate': 2.380952380952381e-05, 'epoch': 0.78}\n",
      "{'loss': 1.5198, 'learning_rate': 2.261904761904762e-05, 'epoch': 0.79}\n",
      "{'loss': 1.5722, 'learning_rate': 2.1428571428571428e-05, 'epoch': 0.8}\n",
      "{'loss': 1.566, 'learning_rate': 2.023809523809524e-05, 'epoch': 0.81}\n",
      "{'loss': 1.632, 'learning_rate': 1.9047619047619046e-05, 'epoch': 0.83}\n",
      "{'loss': 1.5918, 'learning_rate': 1.785714285714286e-05, 'epoch': 0.84}\n",
      "{'loss': 1.6372, 'learning_rate': 1.6666666666666667e-05, 'epoch': 0.85}\n",
      "{'loss': 1.5551, 'learning_rate': 1.5476190476190476e-05, 'epoch': 0.86}\n",
      "{'loss': 1.5632, 'learning_rate': 1.4285714285714285e-05, 'epoch': 0.87}\n",
      "{'loss': 1.6556, 'learning_rate': 1.3095238095238096e-05, 'epoch': 0.88}\n",
      "{'loss': 1.6239, 'learning_rate': 1.1904761904761905e-05, 'epoch': 0.89}\n",
      "{'loss': 1.5386, 'learning_rate': 1.0714285714285714e-05, 'epoch': 0.9}\n",
      "{'loss': 1.5665, 'learning_rate': 9.523809523809523e-06, 'epoch': 0.91}\n",
      "{'loss': 1.5583, 'learning_rate': 8.333333333333334e-06, 'epoch': 0.92}\n",
      "{'loss': 1.6796, 'learning_rate': 7.142857142857143e-06, 'epoch': 0.93}\n",
      "{'loss': 1.5406, 'learning_rate': 5.9523809523809525e-06, 'epoch': 0.94}\n",
      "{'loss': 1.5795, 'learning_rate': 4.7619047619047615e-06, 'epoch': 0.96}\n",
      "{'loss': 1.5335, 'learning_rate': 3.5714285714285714e-06, 'epoch': 0.97}\n",
      "{'loss': 1.6314, 'learning_rate': 2.3809523809523808e-06, 'epoch': 0.98}\n",
      "{'loss': 1.5996, 'learning_rate': 1.1904761904761904e-06, 'epoch': 0.99}\n",
      "{'loss': 1.5854, 'learning_rate': 0.0, 'epoch': 1.0}\n",
      "{'train_runtime': 29197.8963, 'train_samples_per_second': 0.505, 'train_steps_per_second': 0.032, 'train_loss': 1.8249302542727925, 'epoch': 1.0}\n"
     ]
    },
    {
     "name": "stderr",
     "output_type": "stream",
     "text": [
      "Some non-default generation parameters are set in the model config. These should go into a GenerationConfig file (https://huggingface.co/docs/transformers/generation_strategies#save-a-custom-decoding-strategy-with-your-model) instead. This warning will be raised to an exception in v4.41.\n",
      "Non-default generation parameters: {'max_length': 128, 'min_length': 32, 'num_beams': 8, 'length_penalty': 0.8, 'forced_eos_token_id': 1}\n"
     ]
    }
   ],
   "source": [
    "try:\n",
    "    config = ConfigurationManager()\n",
    "    model_trainer_config = config.get_model_trainer_config()\n",
    "    model_trainer_config = ModelTrainer(config=model_trainer_config)\n",
    "    model_trainer_config.train()\n",
    "except Exception as e:\n",
    "    raise e"
   ]
  }
 ],
 "metadata": {
  "kernelspec": {
   "display_name": "tf",
   "language": "python",
   "name": "python3"
  },
  "language_info": {
   "codemirror_mode": {
    "name": "ipython",
    "version": 3
   },
   "file_extension": ".py",
   "mimetype": "text/x-python",
   "name": "python",
   "nbconvert_exporter": "python",
   "pygments_lexer": "ipython3",
   "version": "3.9.18"
  }
 },
 "nbformat": 4,
 "nbformat_minor": 2
}
